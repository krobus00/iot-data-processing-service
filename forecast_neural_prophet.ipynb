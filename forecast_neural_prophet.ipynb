{
 "cells": [
  {
   "cell_type": "code",
   "execution_count": 6,
   "metadata": {},
   "outputs": [],
   "source": [
    "import warnings\n",
    "warnings.filterwarnings('ignore')"
   ]
  },
  {
   "cell_type": "code",
   "execution_count": 7,
   "metadata": {},
   "outputs": [],
   "source": [
    "import pandas as pd\n",
    "from neuralprophet import NeuralProphet\n",
    "import plotly.graph_objects as go\n",
    "import pickle"
   ]
  },
  {
   "cell_type": "code",
   "execution_count": 20,
   "metadata": {},
   "outputs": [],
   "source": [
    "df = pd.read_csv('./dataset/sensors_202205251324.csv')\n",
    "\n",
    "df['created_at'] = pd.to_datetime(df['created_at'], unit='s')\n",
    "df.set_index('created_at',inplace=True)\n",
    "\n",
    "cols = ['temperature']\n",
    "df = df[cols].astype(float)\n"
   ]
  },
  {
   "cell_type": "code",
   "execution_count": null,
   "metadata": {},
   "outputs": [],
   "source": [
    "df.head()"
   ]
  },
  {
   "cell_type": "code",
   "execution_count": 22,
   "metadata": {},
   "outputs": [],
   "source": [
    "freq = '1min'"
   ]
  },
  {
   "cell_type": "code",
   "execution_count": 23,
   "metadata": {},
   "outputs": [],
   "source": [
    "df = df.resample(freq).mean().interpolate()"
   ]
  },
  {
   "cell_type": "code",
   "execution_count": null,
   "metadata": {},
   "outputs": [],
   "source": [
    "df.info()"
   ]
  },
  {
   "cell_type": "code",
   "execution_count": 25,
   "metadata": {},
   "outputs": [],
   "source": [
    "df = df.reset_index()"
   ]
  },
  {
   "cell_type": "code",
   "execution_count": 26,
   "metadata": {},
   "outputs": [],
   "source": [
    "new_column = df[['created_at', 'temperature']] \n",
    "new_column.dropna(inplace=True)\n",
    "new_column.columns = ['ds', 'y'] "
   ]
  },
  {
   "cell_type": "code",
   "execution_count": null,
   "metadata": {},
   "outputs": [],
   "source": [
    "df_train, df_val = NeuralProphet().split_df(new_column, freq='1min', valid_p=0.2)"
   ]
  },
  {
   "cell_type": "code",
   "execution_count": null,
   "metadata": {},
   "outputs": [],
   "source": [
    "n = NeuralProphet(\n",
    "    changepoints_range=0.95,\n",
    "    n_changepoints=120,\n",
    "    batch_size=32,\n",
    "    learning_rate=0.2,\n",
    "    weekly_seasonality=False,\n",
    "    daily_seasonality=True\n",
    ")\n",
    "# n = NeuralProphet()\n",
    "model = n.fit(df_train, validation_df=df_val, freq='1h')"
   ]
  },
  {
   "cell_type": "code",
   "execution_count": null,
   "metadata": {},
   "outputs": [],
   "source": [
    "trace1 = go.Scatter(\n",
    "    x = model.index,\n",
    "    y = model['SmoothL1Loss'].values,\n",
    "    mode = 'lines',\n",
    "    name = 'SmoothL1Loss'\n",
    ")\n",
    "trace2 = go.Scatter(\n",
    "    x = model.index,\n",
    "    y = model['SmoothL1Loss_val'].values,\n",
    "    mode = 'lines',\n",
    "    name = 'SmoothL1Loss_val'\n",
    ")\n",
    "trace3 = go.Scatter(\n",
    "    x = model.index,\n",
    "    y = model['MAE'].values,\n",
    "    mode = 'lines',\n",
    "    name = 'MAE'\n",
    ")\n",
    "trace4 = go.Scatter(\n",
    "    x = model.index,\n",
    "    y = model['MAE_val'].values,\n",
    "    mode = 'lines',\n",
    "    name = 'MAE_val'\n",
    ")\n",
    "\n",
    "layout = go.Layout(\n",
    "    title = \"temp\",\n",
    "    xaxis = {'title' : \"datetime\"},\n",
    "    yaxis = {'title' : \"temperature\"}\n",
    ")\n",
    "fig = go.Figure(data=[trace1, trace2,trace3,trace4], layout=layout)\n",
    "fig.show()"
   ]
  },
  {
   "cell_type": "code",
   "execution_count": null,
   "metadata": {},
   "outputs": [],
   "source": [
    "future = n.make_future_dataframe(df_val, periods=24,n_historic_predictions=True)\n",
    "forecast = n.predict(future)"
   ]
  },
  {
   "cell_type": "code",
   "execution_count": null,
   "metadata": {},
   "outputs": [],
   "source": [
    "fig_forecast = n.plot(forecast)\n",
    "fig_components = n.plot_components(forecast)"
   ]
  },
  {
   "cell_type": "code",
   "execution_count": null,
   "metadata": {},
   "outputs": [],
   "source": [
    "trace1 = go.Scatter(\n",
    "    x = new_column['ds'].values,\n",
    "    y = new_column['y'].values,\n",
    "    mode = 'lines',\n",
    "    name = 'Data'\n",
    ")\n",
    "trace2 = go.Scatter(\n",
    "    x = forecast['ds'].values,\n",
    "    y = forecast['yhat1'].values,\n",
    "    mode = 'lines',\n",
    "    name = 'Prediction'\n",
    ")\n",
    "\n",
    "layout = go.Layout(\n",
    "    title = \"temp\",\n",
    "    xaxis = {'title' : \"datetime\"},\n",
    "    yaxis = {'title' : \"temperature\"}\n",
    ")\n",
    "fig = go.Figure(data=[trace1, trace2], layout=layout)\n",
    "fig.show()"
   ]
  },
  {
   "cell_type": "code",
   "execution_count": 49,
   "metadata": {},
   "outputs": [],
   "source": [
    "with open('./models/neuralprophet_model.pkl', \"wb\") as f:\n",
    "    pickle.dump(n, f)"
   ]
  }
 ],
 "metadata": {
  "interpreter": {
   "hash": "e7370f93d1d0cde622a1f8e1c04877d8463912d04d973331ad4851f04de6915a"
  },
  "kernelspec": {
   "display_name": "Python 3.10.4 64-bit",
   "language": "python",
   "name": "python3"
  },
  "language_info": {
   "codemirror_mode": {
    "name": "ipython",
    "version": 3
   },
   "file_extension": ".py",
   "mimetype": "text/x-python",
   "name": "python",
   "nbconvert_exporter": "python",
   "pygments_lexer": "ipython3",
   "version": "3.10.4"
  },
  "orig_nbformat": 4
 },
 "nbformat": 4,
 "nbformat_minor": 2
}
